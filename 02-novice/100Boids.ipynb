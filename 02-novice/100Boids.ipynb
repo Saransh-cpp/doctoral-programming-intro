{
 "cells": [
  {
   "cell_type": "markdown",
   "metadata": {},
   "source": [
    "# The Boids!"
   ]
  },
  {
   "cell_type": "markdown",
   "metadata": {},
   "source": [
    "## Flocking"
   ]
  },
  {
   "cell_type": "markdown",
   "metadata": {},
   "source": [
    "\n",
    "> The aggregate motion of a flock of birds, a herd of land animals, or a school of fish is a beautiful and familiar\n",
    "part of the natural world... The aggregate motion of the simulated flock is created by a distributed behavioral model much\n",
    "like that at work in a natural flock; the birds choose their own course. Each simulated bird is implemented as an independent\n",
    "actor that navigates according to its local perception of the dynamic environment, the laws of simulated physics that rule its\n",
    "motion, and a set of behaviors programmed into it... The aggregate motion of the simulated flock is the result of the\n",
    "dense interaction of the relatively simple behaviors of the individual simulated birds. \n",
    "\n",
    "-- Craig W. Reynolds, \"Flocks, Herds, and Schools: A Distributed Behavioral Model\", *Computer Graphics* **21** _4_ 1987, pp 25-34\n",
    "See the [original paper](http://www.cs.toronto.edu/~dt/siggraph97-course/cwr87/)"
   ]
  },
  {
   "cell_type": "markdown",
   "metadata": {},
   "source": [
    "\n",
    "* Collision Avoidance: avoid collisions with nearby flockmates\n",
    "* Velocity Matching: attempt to match velocity with nearby flockmates\n",
    "* Flock Centering: attempt to stay close to nearby flockmates"
   ]
  },
  {
   "cell_type": "markdown",
   "metadata": {},
   "source": [
    "## Setting up the Boids"
   ]
  },
  {
   "cell_type": "markdown",
   "metadata": {},
   "source": [
    "Our boids will each have an x velocity and a y velocity, and an x position and a y position."
   ]
  },
  {
   "cell_type": "markdown",
   "metadata": {},
   "source": [
    "We'll build this up in NumPy notation, and eventually, have an animated simulation of our flying boids."
   ]
  },
  {
   "cell_type": "code",
   "execution_count": null,
   "metadata": {},
   "outputs": [],
   "source": [
    "import numpy as np"
   ]
  },
  {
   "cell_type": "markdown",
   "metadata": {},
   "source": [
    "Let's start with simple flying in a straight line."
   ]
  },
  {
   "cell_type": "markdown",
   "metadata": {},
   "source": [
    "Our locations, for each of our N boids, will be an array, shape $2 \\times N$, with the x positions in the first row,\n",
    "and y positions in the second row."
   ]
  },
  {
   "cell_type": "code",
   "execution_count": null,
   "metadata": {},
   "outputs": [],
   "source": [
    "boid_count = 5"
   ]
  },
  {
   "cell_type": "markdown",
   "metadata": {},
   "source": [
    "We'll want to be able to seed our Boids in a random position."
   ]
  },
  {
   "cell_type": "markdown",
   "metadata": {},
   "source": [
    "We'd better define the edges of our simulation area:"
   ]
  },
  {
   "cell_type": "code",
   "execution_count": null,
   "metadata": {},
   "outputs": [],
   "source": [
    "limits = np.array([2000,4000])"
   ]
  },
  {
   "cell_type": "code",
   "execution_count": null,
   "metadata": {},
   "outputs": [],
   "source": [
    "np.random.rand(2, boid_count)"
   ]
  },
  {
   "cell_type": "code",
   "execution_count": null,
   "metadata": {},
   "outputs": [],
   "source": [
    "limits.shape"
   ]
  },
  {
   "cell_type": "code",
   "execution_count": null,
   "metadata": {},
   "outputs": [],
   "source": [
    "positions = np.random.rand(2,boid_count)*limits[:,np.newaxis]\n",
    "positions"
   ]
  },
  {
   "cell_type": "markdown",
   "metadata": {},
   "source": [
    "We used **broadcasting** with np.newaxis to apply our upper limit to each boid.\n",
    "`rand` gives us a random number between 0 and 1. We multiply by our limits to get a number up to that limit."
   ]
  },
  {
   "cell_type": "markdown",
   "metadata": {},
   "source": [
    "Let's put that in a function:"
   ]
  },
  {
   "cell_type": "code",
   "execution_count": null,
   "metadata": {},
   "outputs": [],
   "source": [
    "def new_flock(count, lower_limits, upper_limits):\n",
    "    width=upper_limits-lower_limits\n",
    "    return (lower_limits[:,np.newaxis] + \n",
    "         np.random.rand(2, count)*width[:,np.newaxis])"
   ]
  },
  {
   "cell_type": "markdown",
   "metadata": {},
   "source": [
    "But each bird will also need a starting velocity. Let's make these random too:"
   ]
  },
  {
   "cell_type": "code",
   "execution_count": null,
   "metadata": {},
   "outputs": [],
   "source": [
    "velocities = new_flock(boid_count, np.array([0, -20]), np.array([10, 20]))\n",
    "velocities"
   ]
  },
  {
   "cell_type": "markdown",
   "metadata": {},
   "source": [
    "## Flying in a Straight Line"
   ]
  },
  {
   "cell_type": "markdown",
   "metadata": {},
   "source": [
    "Now we see the real amazingness of NumPy: if we want to move our *whole flock* according to\n",
    "\n",
    "$\\delta_x = \\delta_t \\cdot \\frac{dv}{dt}$"
   ]
  },
  {
   "cell_type": "markdown",
   "metadata": {},
   "source": [
    "We just do:"
   ]
  },
  {
   "cell_type": "code",
   "execution_count": null,
   "metadata": {},
   "outputs": [],
   "source": [
    "delta_t = 1 # Arbitrary choice; defines unit of velocity\n",
    "positions += velocities * delta_t"
   ]
  },
  {
   "cell_type": "markdown",
   "metadata": {},
   "source": [
    "## Matplotlib Animations"
   ]
  },
  {
   "cell_type": "markdown",
   "metadata": {},
   "source": [
    "So now we can animate our Boids using the matplotlib animation tools. All we have to do is import the relevant libraries:"
   ]
  },
  {
   "cell_type": "code",
   "execution_count": null,
   "metadata": {},
   "outputs": [],
   "source": [
    "from matplotlib import animation\n",
    "from matplotlib import pyplot as plt\n",
    "%matplotlib inline"
   ]
  },
  {
   "cell_type": "markdown",
   "metadata": {},
   "source": [
    "Then, we make a static plot, showing our first frame:"
   ]
  },
  {
   "cell_type": "code",
   "execution_count": null,
   "metadata": {},
   "outputs": [],
   "source": [
    "# create a simple animation\n",
    "positions=new_flock(100, np.array([100,900]), np.array([200,1100]))\n",
    "velocities=new_flock(100, np.array([0,-20]), np.array([10,20]))\n",
    "\n",
    "figure = plt.figure()\n",
    "axes = plt.axes(xlim=(0, limits[0]), ylim=(0, limits[0]))\n",
    "scatter=axes.scatter(positions[0,:],positions[1,:])\n",
    "scatter"
   ]
  },
  {
   "cell_type": "markdown",
   "metadata": {},
   "source": [
    "Then, we define a function which **updates** the figure for each timestep"
   ]
  },
  {
   "cell_type": "code",
   "execution_count": null,
   "metadata": {},
   "outputs": [],
   "source": [
    "def update_boids(positions, velocities):\n",
    "    positions += velocities\n",
    "    \n",
    "def animate(frame):\n",
    "    update_boids(positions, velocities)\n",
    "    scatter.set_offsets(positions.transpose())"
   ]
  },
  {
   "cell_type": "markdown",
   "metadata": {},
   "source": [
    "Call `FuncAnimation`, and specify how many frames we want:"
   ]
  },
  {
   "cell_type": "code",
   "execution_count": null,
   "metadata": {},
   "outputs": [],
   "source": [
    "anim=animation.FuncAnimation(figure, animate,\n",
    "                        frames=50, interval=50)"
   ]
  },
  {
   "cell_type": "markdown",
   "metadata": {},
   "source": [
    "Save out the figure:"
   ]
  },
  {
   "cell_type": "code",
   "execution_count": null,
   "metadata": {},
   "outputs": [],
   "source": [
    "anim.save('boids_1.mp4')"
   ]
  },
  {
   "cell_type": "markdown",
   "metadata": {},
   "source": [
    "And download the [saved animation](http://development.rc.ucl.ac.uk/training/introductory/notebooks/boids_1.mp4)"
   ]
  },
  {
   "cell_type": "markdown",
   "metadata": {},
   "source": [
    "You can even use an external library to view the results directly in the notebook.\n",
    "If you're on your own computer, you can download it from https://github.com/jakevdp/JSAnimation.git\n",
    "(See the notes on installing libraries...)\n",
    "\n",
    "Unfortunately, if you're on the teaching cluster, you won't be able to install it there."
   ]
  },
  {
   "cell_type": "code",
   "execution_count": null,
   "metadata": {},
   "outputs": [],
   "source": [
    "from JSAnimation import IPython_display\n",
    "# Inline animation tool; needs manual install via \n",
    "# If you don't have this, you need to save animations as MP4.\n",
    "positions=new_flock(100, np.array([100,900]), np.array([200,1100]))\n",
    "anim"
   ]
  },
  {
   "cell_type": "markdown",
   "metadata": {},
   "source": [
    "## Fly towards the middle"
   ]
  },
  {
   "cell_type": "markdown",
   "metadata": {},
   "source": [
    "Boids try to fly towards the middle:"
   ]
  },
  {
   "cell_type": "code",
   "execution_count": null,
   "metadata": {},
   "outputs": [],
   "source": [
    "positions=new_flock(4, np.array([100,900]), np.array([200,1100]))\n",
    "velocities=new_flock(4, np.array([0,-20]), np.array([10,20]))"
   ]
  },
  {
   "cell_type": "code",
   "execution_count": null,
   "metadata": {},
   "outputs": [],
   "source": [
    "positions"
   ]
  },
  {
   "cell_type": "code",
   "execution_count": null,
   "metadata": {},
   "outputs": [],
   "source": [
    "velocities"
   ]
  },
  {
   "cell_type": "code",
   "execution_count": null,
   "metadata": {},
   "outputs": [],
   "source": [
    "middle=np.mean(positions, 1)\n",
    "middle"
   ]
  },
  {
   "cell_type": "code",
   "execution_count": null,
   "metadata": {},
   "outputs": [],
   "source": [
    "direction_to_middle = positions-middle[:, np.newaxis]"
   ]
  },
  {
   "cell_type": "code",
   "execution_count": null,
   "metadata": {},
   "outputs": [],
   "source": [
    "move_to_middle_strength = 0.01\n",
    "velocities = velocities - direction_to_middle * move_to_middle_strength"
   ]
  },
  {
   "cell_type": "markdown",
   "metadata": {},
   "source": [
    "Let's update our function, and animate that:"
   ]
  },
  {
   "cell_type": "code",
   "execution_count": null,
   "metadata": {},
   "outputs": [],
   "source": [
    "def update_boids(positions, velocities):\n",
    "    move_to_middle_strength = 0.1\n",
    "    middle=np.mean(positions, 1)\n",
    "    direction_to_middle = positions - middle[:, np.newaxis]\n",
    "    velocities -= direction_to_middle * move_to_middle_strength\n",
    "    positions += velocities"
   ]
  },
  {
   "cell_type": "code",
   "execution_count": null,
   "metadata": {},
   "outputs": [],
   "source": [
    "def animate(frame):\n",
    "    update_boids(positions, velocities)\n",
    "    scatter.set_offsets(positions.transpose())"
   ]
  },
  {
   "cell_type": "code",
   "execution_count": null,
   "metadata": {},
   "outputs": [],
   "source": [
    "anim=animation.FuncAnimation(figure, animate,\n",
    "                        frames=50, interval=50)"
   ]
  },
  {
   "cell_type": "code",
   "execution_count": null,
   "metadata": {},
   "outputs": [],
   "source": [
    "from JSAnimation import IPython_display \n",
    "positions=new_flock(100, np.array([100,900]), np.array([200,1100]))\n",
    "velocities=new_flock(100, np.array([0,-20]), np.array([10,20]))\n",
    "anim"
   ]
  },
  {
   "cell_type": "markdown",
   "metadata": {},
   "source": [
    "## Avoiding collisions"
   ]
  },
  {
   "cell_type": "markdown",
   "metadata": {},
   "source": [
    "We'll want to add our other flocking rules to the behaviour of the Boids."
   ]
  },
  {
   "cell_type": "markdown",
   "metadata": {},
   "source": [
    "We'll need a matrix giving the distances between each bird. This should be $N \\times N$."
   ]
  },
  {
   "cell_type": "code",
   "execution_count": null,
   "metadata": {},
   "outputs": [],
   "source": [
    "positions=new_flock(4, np.array([100,900]), np.array([200,1100]))\n",
    "velocities=new_flock(4, np.array([0,-20]), np.array([10,20]))"
   ]
  },
  {
   "cell_type": "markdown",
   "metadata": {},
   "source": [
    "We might think that we need to do the X-distances and Y-distances separately:"
   ]
  },
  {
   "cell_type": "code",
   "execution_count": null,
   "metadata": {},
   "outputs": [],
   "source": [
    "xpos=positions[0,:]"
   ]
  },
  {
   "cell_type": "code",
   "execution_count": null,
   "metadata": {},
   "outputs": [],
   "source": [
    "xpos"
   ]
  },
  {
   "cell_type": "code",
   "execution_count": null,
   "metadata": {},
   "outputs": [],
   "source": [
    "xpos[:,np.newaxis]"
   ]
  },
  {
   "cell_type": "code",
   "execution_count": null,
   "metadata": {},
   "outputs": [],
   "source": [
    "xpos[np.newaxis,:]"
   ]
  },
  {
   "cell_type": "code",
   "execution_count": null,
   "metadata": {},
   "outputs": [],
   "source": [
    "xsep_matrix = xpos[:,np.newaxis] - xpos[np.newaxis,:]"
   ]
  },
  {
   "cell_type": "code",
   "execution_count": null,
   "metadata": {},
   "outputs": [],
   "source": [
    "xsep_matrix"
   ]
  },
  {
   "cell_type": "code",
   "execution_count": null,
   "metadata": {},
   "outputs": [],
   "source": [
    "xsep_matrix.shape"
   ]
  },
  {
   "cell_type": "code",
   "execution_count": null,
   "metadata": {},
   "outputs": [],
   "source": [
    "xsep_matrix"
   ]
  },
  {
   "cell_type": "markdown",
   "metadata": {},
   "source": [
    "But in NumPy we can be cleverer than that, and make a 2 by N by N matrix of separations:"
   ]
  },
  {
   "cell_type": "code",
   "execution_count": null,
   "metadata": {},
   "outputs": [],
   "source": [
    "separations = positions[:,np.newaxis,:] - positions[:,:,np.newaxis]"
   ]
  },
  {
   "cell_type": "code",
   "execution_count": null,
   "metadata": {},
   "outputs": [],
   "source": [
    "separations.shape"
   ]
  },
  {
   "cell_type": "markdown",
   "metadata": {},
   "source": [
    "And then we can get the sum-of-squares $\\delta_x^2 + \\delta_y^2$ like this:"
   ]
  },
  {
   "cell_type": "code",
   "execution_count": null,
   "metadata": {},
   "outputs": [],
   "source": [
    "squared_displacements = separations * separations"
   ]
  },
  {
   "cell_type": "code",
   "execution_count": null,
   "metadata": {},
   "outputs": [],
   "source": [
    "square_distances = np.sum(squared_displacements, 0)"
   ]
  },
  {
   "cell_type": "code",
   "execution_count": null,
   "metadata": {},
   "outputs": [],
   "source": [
    "square_distances"
   ]
  },
  {
   "cell_type": "markdown",
   "metadata": {},
   "source": [
    "Now we need to find birds that are too close:"
   ]
  },
  {
   "cell_type": "code",
   "execution_count": null,
   "metadata": {},
   "outputs": [],
   "source": [
    "alert_distance = 2000\n",
    "close_birds = square_distances < alert_distance\n",
    "close_birds"
   ]
  },
  {
   "cell_type": "markdown",
   "metadata": {},
   "source": [
    "Find the direction distances **only** to those birds which are too close:"
   ]
  },
  {
   "cell_type": "code",
   "execution_count": null,
   "metadata": {},
   "outputs": [],
   "source": [
    "separations_if_close = np.copy(separations)\n",
    "far_away = np.logical_not(close_birds)"
   ]
  },
  {
   "cell_type": "code",
   "execution_count": null,
   "metadata": {},
   "outputs": [],
   "source": [
    "separations_if_close[0,:,:][far_away] = 0\n",
    "separations_if_close[1,:,:][far_away] = 0\n",
    "separations_if_close"
   ]
  },
  {
   "cell_type": "markdown",
   "metadata": {},
   "source": [
    "And fly away from them:"
   ]
  },
  {
   "cell_type": "code",
   "execution_count": null,
   "metadata": {},
   "outputs": [],
   "source": [
    "velocities = velocities + np.sum(separations_if_close,2)"
   ]
  },
  {
   "cell_type": "markdown",
   "metadata": {},
   "source": [
    "Now we can update our animation:"
   ]
  },
  {
   "cell_type": "code",
   "execution_count": null,
   "metadata": {},
   "outputs": [],
   "source": [
    "def update_boids(positions, velocities):\n",
    "    move_to_middle_strength = 0.01\n",
    "    middle = np.mean(positions, 1)\n",
    "    direction_to_middle = positions - middle[:,np.newaxis]\n",
    "    velocities -= direction_to_middle * move_to_middle_strength\n",
    "    \n",
    "    separations = positions[:,np.newaxis,:] - positions[:,:,np.newaxis]\n",
    "    squared_displacements = separations * separations\n",
    "    square_distances = np.sum(squared_displacements, 0)\n",
    "    alert_distance = 100\n",
    "    far_away = square_distances > alert_distance\n",
    "    separations_if_close = np.copy(separations)\n",
    "    separations_if_close[0,:,:][far_away] =0\n",
    "    separations_if_close[1,:,:][far_away] =0\n",
    "    velocities += np.sum(separations_if_close,1)\n",
    "    \n",
    "    positions += velocities"
   ]
  },
  {
   "cell_type": "code",
   "execution_count": null,
   "metadata": {},
   "outputs": [],
   "source": [
    "def animate(frame):\n",
    "    update_boids(positions, velocities)\n",
    "    scatter.set_offsets(positions.transpose())\n",
    "    \n",
    "anim = animation.FuncAnimation(figure, animate,\n",
    "                        frames=50, interval=50)\n",
    "\n",
    "from JSAnimation import IPython_display\n",
    "positions = new_flock(100, np.array([100,900]), np.array([200,1100]))\n",
    "velocities = new_flock(100, np.array([0,-20]), np.array([10,20]))\n",
    "anim"
   ]
  },
  {
   "cell_type": "markdown",
   "metadata": {},
   "source": [
    "## Match speed with nearby birds"
   ]
  },
  {
   "cell_type": "markdown",
   "metadata": {},
   "source": [
    "This is pretty similar:"
   ]
  },
  {
   "cell_type": "code",
   "execution_count": null,
   "metadata": {},
   "outputs": [],
   "source": [
    "def update_boids(positions, velocities):\n",
    "    move_to_middle_strength = 0.01\n",
    "    middle = np.mean(positions, 1)\n",
    "    direction_to_middle = positions-middle[:,np.newaxis]\n",
    "    velocities -= direction_to_middle*move_to_middle_strength\n",
    "    \n",
    "    separations = positions[:,np.newaxis,:] - positions[:,:,np.newaxis]\n",
    "    squared_displacements = separations*separations\n",
    "    square_distances = np.sum(squared_displacements, 0)\n",
    "    alert_distance = 100\n",
    "    far_away=square_distances > alert_distance\n",
    "    separations_if_close = np.copy(separations)\n",
    "    separations_if_close[0,:,:][far_away] =0\n",
    "    separations_if_close[1,:,:][far_away] =0\n",
    "    velocities += np.sum(separations_if_close,1)\n",
    "    \n",
    "    velocity_differences = velocities[:,np.newaxis,:] - velocities[:,:,np.newaxis]\n",
    "    formation_flying_distance = 10000\n",
    "    formation_flying_strength = 0.125\n",
    "    very_far=square_distances > formation_flying_distance\n",
    "    velocity_differences_if_close = np.copy(velocity_differences)\n",
    "    velocity_differences_if_close[0,:,:][very_far] =0\n",
    "    velocity_differences_if_close[1,:,:][very_far] =0\n",
    "    velocities -= np.mean(velocity_differences_if_close, 1) * formation_flying_strength\n",
    "    \n",
    "    positions += velocities\n",
    "    "
   ]
  },
  {
   "cell_type": "code",
   "execution_count": null,
   "metadata": {},
   "outputs": [],
   "source": [
    "def animate(frame):\n",
    "    update_boids(positions, velocities)\n",
    "    scatter.set_offsets(positions.transpose())\n",
    "    \n",
    "anim=animation.FuncAnimation(figure, animate,\n",
    "                        frames=200, interval=50)\n",
    "\n",
    "from JSAnimation import IPython_display \n",
    "\n",
    "positions=new_flock(100, np.array([100,900]), np.array([200,1100]))\n",
    "velocities=new_flock(100, np.array([0,-20]), np.array([10,20]))\n",
    "anim"
   ]
  },
  {
   "cell_type": "markdown",
   "metadata": {},
   "source": [
    "Hopefully the power of NumPy should be pretty clear now. This would be **enormously slower** and, I think, harder to understand using traditional lists."
   ]
  }
 ],
 "metadata": {
  "jekyll": {
   "display_name": "Boids"
  },
  "kernelspec": {
   "display_name": "Python 3",
   "language": "python",
   "name": "python3"
  },
  "language_info": {
   "codemirror_mode": {
    "name": "ipython",
    "version": 3
   },
   "file_extension": ".py",
   "mimetype": "text/x-python",
   "name": "python",
   "nbconvert_exporter": "python",
   "pygments_lexer": "ipython3",
   "version": "3.5.2"
  }
 },
 "nbformat": 4,
 "nbformat_minor": 0
}

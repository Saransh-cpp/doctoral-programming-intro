{
 "cells": [
  {
   "cell_type": "markdown",
   "metadata": {},
   "source": [
    "# Field and Record Data"
   ]
  },
  {
   "cell_type": "markdown",
   "metadata": {},
   "source": [
    "## Separated Value Files"
   ]
  },
  {
   "cell_type": "markdown",
   "metadata": {},
   "source": [
    "Let's carry on with our sunspots example:"
   ]
  },
  {
   "cell_type": "code",
   "execution_count": 1,
   "metadata": {},
   "outputs": [
    {
     "data": {
      "text/plain": [
       "'1749;01;1749.042;  96.7; -1.0;   -1;1'"
      ]
     },
     "execution_count": 1,
     "metadata": {},
     "output_type": "execute_result"
    }
   ],
   "source": [
    "import requests\n",
    "spots = requests.get('http://www.sidc.be/silso/INFO/snmtotcsv.php').text\n",
    "spots.split('\\n')[0]"
   ]
  },
  {
   "cell_type": "markdown",
   "metadata": {},
   "source": [
    "We want to work programmatically with *Separated Value* files."
   ]
  },
  {
   "cell_type": "markdown",
   "metadata": {},
   "source": [
    "These are files which have:\n",
    "\n",
    "* Each *record* on a line\n",
    "* Each record has multiple *fields*\n",
    "* Fields are separated by some *separator*"
   ]
  },
  {
   "cell_type": "markdown",
   "metadata": {},
   "source": [
    "Typical separators are the `space`, `tab`, `comma`, and `semicolon` separated values files, e.g.:\n",
    "\n",
    "* Space separated value (e.g. `field1, \"field two\", field3` )\n",
    "* Comma separated value (e.g. `field1, another field, \"wow, another field\")"
   ]
  },
  {
   "cell_type": "markdown",
   "metadata": {},
   "source": [
    "Comma-separated-value is abbreviated CSV, and tab separated value TSV."
   ]
  },
  {
   "cell_type": "markdown",
   "metadata": {},
   "source": [
    "CSV is also used to refer to all the different sub-kinds of separated value files, i.e. some people use csv to refer to tab, space and semicolon separated files."
   ]
  },
  {
   "cell_type": "markdown",
   "metadata": {},
   "source": [
    "CSV is not a particularly superb data format, because it forces your data model to be a list of lists. Richer file formats\n",
    "describe \"serialisations\" for dictionaries and for deeper-than-two nested list structures as well."
   ]
  },
  {
   "cell_type": "markdown",
   "metadata": {},
   "source": [
    "Nevertheless, because you can always export *spreadsheets* as CSV files (each cell is a field, each row is a record), CSV files are very popular. "
   ]
  },
  {
   "cell_type": "markdown",
   "metadata": {},
   "source": [
    "## CSV variants."
   ]
  },
  {
   "cell_type": "markdown",
   "metadata": {},
   "source": [
    "Some CSV formats define a comment character, so that rows beginning with, e.g., a #, are not treated as data, but give\n",
    "a human index."
   ]
  },
  {
   "cell_type": "markdown",
   "metadata": {},
   "source": [
    "Some CSV formats define a three-deep list structure, where a double-newline separates records into blocks."
   ]
  },
  {
   "cell_type": "markdown",
   "metadata": {},
   "source": [
    "Some CSV formats assume that the first line defines the names of the fields, e.g.:"
   ]
  },
  {
   "cell_type": "markdown",
   "metadata": {},
   "source": [
    "``` csv\n",
    "name, age, job\n",
    "James, 38, Programmer\n",
    "Elizabeth, 89, Queen\n",
    "```"
   ]
  },
  {
   "cell_type": "markdown",
   "metadata": {},
   "source": [
    "## Python CSV readers"
   ]
  },
  {
   "cell_type": "markdown",
   "metadata": {},
   "source": [
    "The Python standard library has a `csv` module. However, it's less powerful than the CSV capabilities in `numpy`,\n",
    "the main scientific python library for handling data. Numpy is destributed with Anaconda and Canopy, so we recommend you just use that."
   ]
  },
  {
   "cell_type": "markdown",
   "metadata": {},
   "source": [
    "Numpy has powerful capabilities for handling matrices, and other fun stuff, and we'll learn about these later in the course,\n",
    "but for now, we'll just use numpy's CSV reader, and assume it makes us lists and dictionaries, rather than it's more exciting\n",
    "`array` type."
   ]
  },
  {
   "cell_type": "code",
   "execution_count": 3,
   "metadata": {},
   "outputs": [],
   "source": [
    "import numpy as np\n",
    "from io import BytesIO"
   ]
  },
  {
   "cell_type": "code",
   "execution_count": 4,
   "metadata": {},
   "outputs": [],
   "source": [
    "sunspots = np.genfromtxt(BytesIO(spots.encode()), delimiter=';')"
   ]
  },
  {
   "cell_type": "markdown",
   "metadata": {},
   "source": [
    "`genfromtxt` is a powerful CSV reader. I used the `delimiter` optional argument to specify the delimeter. I could also specify\n",
    "`names=True` if I had a first line naming fields, and `comments=#` if I had comment lines."
   ]
  },
  {
   "cell_type": "code",
   "execution_count": 5,
   "metadata": {},
   "outputs": [
    {
     "data": {
      "text/plain": [
       "array([[ 1.749000e+03,  1.000000e+00,  1.749042e+03, ..., -1.000000e+00,\n",
       "        -1.000000e+00,  1.000000e+00],\n",
       "       [ 1.749000e+03,  2.000000e+00,  1.749123e+03, ..., -1.000000e+00,\n",
       "        -1.000000e+00,  1.000000e+00],\n",
       "       [ 1.749000e+03,  3.000000e+00,  1.749204e+03, ..., -1.000000e+00,\n",
       "        -1.000000e+00,  1.000000e+00],\n",
       "       ...,\n",
       "       [ 2.021000e+03,  6.000000e+00,  2.021453e+03, ...,  5.600000e+00,\n",
       "         1.196000e+03,  0.000000e+00],\n",
       "       [ 2.021000e+03,  7.000000e+00,  2.021538e+03, ...,  9.100000e+00,\n",
       "         1.222000e+03,  0.000000e+00],\n",
       "       [ 2.021000e+03,  8.000000e+00,  2.021623e+03, ...,  7.700000e+00,\n",
       "         1.250000e+03,  0.000000e+00]])"
      ]
     },
     "execution_count": 5,
     "metadata": {},
     "output_type": "execute_result"
    }
   ],
   "source": [
    "sunspots"
   ]
  },
  {
   "cell_type": "markdown",
   "metadata": {},
   "source": [
    "We can now plot the \"Sunspot cycle\":"
   ]
  },
  {
   "cell_type": "code",
   "execution_count": 7,
   "metadata": {},
   "outputs": [
    {
     "data": {
      "text/plain": [
       "[<matplotlib.lines.Line2D at 0x7fe8e9696f10>]"
      ]
     },
     "execution_count": 7,
     "metadata": {},
     "output_type": "execute_result"
    },
    {
     "data": {
      "image/png": "[encoded data removed]",
      "text/plain": [
       "<Figure size 432x288 with 1 Axes>"
      ]
     },
     "metadata": {
      "needs_background": "light"
     },
     "output_type": "display_data"
    }
   ],
   "source": [
    "%matplotlib inline\n",
    "from matplotlib import pyplot as plt\n",
    "plt.plot(sunspots[:,0], sunspots[:,3]) # Numpy syntax to access all \n",
    "                                       #rows, specified column."
   ]
  },
  {
   "cell_type": "code",
   "execution_count": 8,
   "metadata": {},
   "outputs": [
    {
     "data": {
      "text/plain": [
       "[<matplotlib.lines.Line2D at 0x7fe8e84748e0>]"
      ]
     },
     "execution_count": 8,
     "metadata": {},
     "output_type": "execute_result"
    },
    {
     "data": {
      "image/png": "[encoded data removed]",
      "text/plain": [
       "<Figure size 432x288 with 1 Axes>"
      ]
     },
     "metadata": {
      "needs_background": "light"
     },
     "output_type": "display_data"
    }
   ],
   "source": [
    "%matplotlib inline\n",
    "import requests\n",
    "import numpy as np\n",
    "from io import BytesIO\n",
    "from matplotlib import pyplot as plt\n",
    "\n",
    "spots =  requests.get('http://www.sidc.be/silso/INFO/snmtotcsv.php').text\n",
    "sunspots = np.genfromtxt(BytesIO(spots.encode()), delimiter=';')\n",
    "plt.plot(sunspots[:,0], sunspots[:,3])"
   ]
  },
  {
   "cell_type": "markdown",
   "metadata": {},
   "source": [
    "The plot command accepted an array of 'X' values and an array of 'Y' values. We used a special NumPy \":\" syntax,\n",
    "which we'll learn more about later."
   ]
  },
  {
   "cell_type": "markdown",
   "metadata": {},
   "source": [
    "## Naming Columns"
   ]
  },
  {
   "cell_type": "markdown",
   "metadata": {},
   "source": [
    "I happen to know that the columns here are defined as follows:"
   ]
  },
  {
   "cell_type": "markdown",
   "metadata": {},
   "source": [
    "From http://www.sidc.be/silso/infosnmtot:\n",
    "\n",
    "> CSV\n",
    "\n",
    "> Filename: SN_m_tot_V2.0.csv\n",
    "> Format: Comma Separated values (adapted for import in spreadsheets)\n",
    "The separator is the semicolon ';'.\n",
    "\n",
    "> Contents:\n",
    "* Column 1-2: Gregorian calendar date\n",
    "- Year\n",
    "- Month\n",
    "* Column 3: Date in fraction of year.\n",
    "* Column 4: Monthly mean total sunspot number.\n",
    "* Column 5: Monthly mean standard deviation of the input sunspot numbers.\n",
    "* Column 6: Number of observations used to compute the monthly mean total sunspot number.\n",
    "* Column 7: Definitive/provisional marker. '1' indicates that the value is definitive. '0' indicates that the value is still provisional."
   ]
  },
  {
   "cell_type": "markdown",
   "metadata": {
    "collapsed": true
   },
   "source": [
    "I can actually specify this to the formatter:"
   ]
  },
  {
   "cell_type": "code",
   "execution_count": 9,
   "metadata": {},
   "outputs": [],
   "source": [
    "sunspots = np.genfromtxt(BytesIO(spots.encode()), delimiter=';', \n",
    "                         names=['year','month','date',\n",
    "                         'mean','deviation','observations','definitive'])"
   ]
  },
  {
   "cell_type": "code",
   "execution_count": 10,
   "metadata": {},
   "outputs": [
    {
     "data": {
      "text/plain": [
       "array([(1749., 1., 1749.042,  96.7, -1. , -1.000e+00, 1.),\n",
       "       (1749., 2., 1749.123, 104.3, -1. , -1.000e+00, 1.),\n",
       "       (1749., 3., 1749.204, 116.7, -1. , -1.000e+00, 1.), ...,\n",
       "       (2021., 6., 2021.453,  25.4,  5.6,  1.196e+03, 0.),\n",
       "       (2021., 7., 2021.538,  34.4,  9.1,  1.222e+03, 0.),\n",
       "       (2021., 8., 2021.623,  22.4,  7.7,  1.250e+03, 0.)],\n",
       "      dtype=[('year', '<f8'), ('month', '<f8'), ('date', '<f8'), ('mean', '<f8'), ('deviation', '<f8'), ('observations', '<f8'), ('definitive', '<f8')])"
      ]
     },
     "execution_count": 10,
     "metadata": {},
     "output_type": "execute_result"
    }
   ],
   "source": [
    "sunspots"
   ]
  },
  {
   "cell_type": "code",
   "execution_count": 11,
   "metadata": {},
   "outputs": [
    {
     "data": {
      "text/plain": [
       "array([1749., 1749., 1749., ..., 2021., 2021., 2021.])"
      ]
     },
     "execution_count": 11,
     "metadata": {},
     "output_type": "execute_result"
    }
   ],
   "source": [
    "sunspots['year']"
   ]
  },
  {
   "cell_type": "markdown",
   "metadata": {},
   "source": [
    "## Typed Fields"
   ]
  },
  {
   "cell_type": "markdown",
   "metadata": {},
   "source": [
    "It's also often good to specify the datatype of each field."
   ]
  },
  {
   "cell_type": "code",
   "execution_count": 12,
   "metadata": {},
   "outputs": [],
   "source": [
    "sunspots = np.genfromtxt(BytesIO(spots.encode()), delimiter=';', \n",
    "                         names=['year','month','date',\n",
    "                         'mean','deviation','observations','definitive'],\n",
    "                         dtype=[int, int, float, float, float, int, int])"
   ]
  },
  {
   "cell_type": "code",
   "execution_count": 13,
   "metadata": {},
   "outputs": [
    {
     "data": {
      "text/plain": [
       "array([(1749, 1, 1749.042,  96.7, -1. ,   -1, 1),\n",
       "       (1749, 2, 1749.123, 104.3, -1. ,   -1, 1),\n",
       "       (1749, 3, 1749.204, 116.7, -1. ,   -1, 1), ...,\n",
       "       (2021, 6, 2021.453,  25.4,  5.6, 1196, 0),\n",
       "       (2021, 7, 2021.538,  34.4,  9.1, 1222, 0),\n",
       "       (2021, 8, 2021.623,  22.4,  7.7, 1250, 0)],\n",
       "      dtype=[('year', '<i8'), ('month', '<i8'), ('date', '<f8'), ('mean', '<f8'), ('deviation', '<f8'), ('observations', '<i8'), ('definitive', '<i8')])"
      ]
     },
     "execution_count": 13,
     "metadata": {},
     "output_type": "execute_result"
    }
   ],
   "source": [
    "sunspots"
   ]
  },
  {
   "cell_type": "markdown",
   "metadata": {},
   "source": [
    "Now, NumPy understands the names of the columns, so our plot command is more readable:"
   ]
  },
  {
   "cell_type": "code",
   "execution_count": 14,
   "metadata": {},
   "outputs": [
    {
     "data": {
      "text/plain": [
       "array([1749, 1749, 1749, ..., 2021, 2021, 2021])"
      ]
     },
     "execution_count": 14,
     "metadata": {},
     "output_type": "execute_result"
    }
   ],
   "source": [
    "sunspots['year']"
   ]
  },
  {
   "cell_type": "code",
   "execution_count": 15,
   "metadata": {},
   "outputs": [
    {
     "data": {
      "text/plain": [
       "[<matplotlib.lines.Line2D at 0x7fe8e82febe0>]"
      ]
     },
     "execution_count": 15,
     "metadata": {},
     "output_type": "execute_result"
    },
    {
     "data": {
      "image/png": "[encoded data removed]",
      "text/plain": [
       "<Figure size 432x288 with 1 Axes>"
      ]
     },
     "metadata": {
      "needs_background": "light"
     },
     "output_type": "display_data"
    }
   ],
   "source": [
    "plt.plot(sunspots['year'],sunspots['mean'])"
   ]
  }
 ],
 "metadata": {
  "jekyll": {
   "display_name": "CSV"
  },
  "kernelspec": {
   "display_name": "Python 3 (ipykernel)",
   "language": "python",
   "name": "python3"
  },
  "language_info": {
   "codemirror_mode": {
    "name": "ipython",
    "version": 3
   },
   "file_extension": ".py",
   "mimetype": "text/x-python",
   "name": "python",
   "nbconvert_exporter": "python",
   "pygments_lexer": "ipython3",
   "version": "3.8.10"
  }
 },
 "nbformat": 4,
 "nbformat_minor": 1
}
